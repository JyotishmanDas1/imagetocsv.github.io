{
  "nbformat": 4,
  "nbformat_minor": 0,
  "metadata": {
    "colab": {
      "name": "versionfinal.ipynb",
      "provenance": [],
      "collapsed_sections": []
    },
    "kernelspec": {
      "name": "python3",
      "display_name": "Python 3"
    },
    "language_info": {
      "name": "python"
    }
  },
  "cells": [
    {
      "cell_type": "code",
      "source": [
        "!sudo apt install tesseract-ocr\n",
        "\n",
        "!pip install pytesseract"
      ],
      "metadata": {
        "colab": {
          "base_uri": "https://localhost:8080/"
        },
        "id": "EcxdBe_5Udhe",
        "outputId": "f2707378-995e-4b62-9b7d-8f1d8ee50287"
      },
      "execution_count": 95,
      "outputs": [
        {
          "output_type": "stream",
          "name": "stdout",
          "text": [
            "Reading package lists... Done\n",
            "Building dependency tree       \n",
            "Reading state information... Done\n",
            "tesseract-ocr is already the newest version (4.00~git2288-10f4998a-2).\n",
            "The following package was automatically installed and is no longer required:\n",
            "  libnvidia-common-460\n",
            "Use 'sudo apt autoremove' to remove it.\n",
            "0 upgraded, 0 newly installed, 0 to remove and 20 not upgraded.\n",
            "Looking in indexes: https://pypi.org/simple, https://us-python.pkg.dev/colab-wheels/public/simple/\n",
            "Requirement already satisfied: pytesseract in /usr/local/lib/python3.7/dist-packages (0.3.10)\n",
            "Requirement already satisfied: packaging>=21.3 in /usr/local/lib/python3.7/dist-packages (from pytesseract) (21.3)\n",
            "Requirement already satisfied: Pillow>=8.0.0 in /usr/local/lib/python3.7/dist-packages (from pytesseract) (9.2.0)\n",
            "Requirement already satisfied: pyparsing!=3.0.5,>=2.0.2 in /usr/local/lib/python3.7/dist-packages (from packaging>=21.3->pytesseract) (3.0.9)\n"
          ]
        }
      ]
    },
    {
      "cell_type": "code",
      "source": [
        "pip install img2pdf"
      ],
      "metadata": {
        "colab": {
          "base_uri": "https://localhost:8080/"
        },
        "id": "LTfDNj4HMeA3",
        "outputId": "d0c018ab-c0ce-4e6c-8a75-b581da8067fe"
      },
      "execution_count": 96,
      "outputs": [
        {
          "output_type": "stream",
          "name": "stdout",
          "text": [
            "Looking in indexes: https://pypi.org/simple, https://us-python.pkg.dev/colab-wheels/public/simple/\n",
            "Requirement already satisfied: img2pdf in /usr/local/lib/python3.7/dist-packages (0.4.4)\n",
            "Requirement already satisfied: pikepdf in /usr/local/lib/python3.7/dist-packages (from img2pdf) (5.6.0)\n",
            "Requirement already satisfied: Pillow in /usr/local/lib/python3.7/dist-packages (from img2pdf) (9.2.0)\n",
            "Requirement already satisfied: importlib-metadata>=4 in /usr/local/lib/python3.7/dist-packages (from pikepdf->img2pdf) (4.12.0)\n",
            "Requirement already satisfied: lxml>=4.0 in /usr/local/lib/python3.7/dist-packages (from pikepdf->img2pdf) (4.9.1)\n",
            "Requirement already satisfied: packaging in /usr/local/lib/python3.7/dist-packages (from pikepdf->img2pdf) (21.3)\n",
            "Requirement already satisfied: deprecation in /usr/local/lib/python3.7/dist-packages (from pikepdf->img2pdf) (2.1.0)\n",
            "Requirement already satisfied: typing-extensions>=4 in /usr/local/lib/python3.7/dist-packages (from pikepdf->img2pdf) (4.1.1)\n",
            "Requirement already satisfied: zipp>=0.5 in /usr/local/lib/python3.7/dist-packages (from importlib-metadata>=4->pikepdf->img2pdf) (3.8.1)\n",
            "Requirement already satisfied: pyparsing!=3.0.5,>=2.0.2 in /usr/local/lib/python3.7/dist-packages (from packaging->pikepdf->img2pdf) (3.0.9)\n"
          ]
        }
      ]
    },
    {
      "cell_type": "code",
      "source": [
        "!pip install tesseract"
      ],
      "metadata": {
        "colab": {
          "base_uri": "https://localhost:8080/"
        },
        "id": "XqCB7517ikXI",
        "outputId": "22f0f70f-c676-449f-9841-46b781d26c38"
      },
      "execution_count": 97,
      "outputs": [
        {
          "output_type": "stream",
          "name": "stdout",
          "text": [
            "Looking in indexes: https://pypi.org/simple, https://us-python.pkg.dev/colab-wheels/public/simple/\n",
            "Requirement already satisfied: tesseract in /usr/local/lib/python3.7/dist-packages (0.1.3)\n"
          ]
        }
      ]
    },
    {
      "cell_type": "code",
      "source": [
        "pip install opencv-python"
      ],
      "metadata": {
        "colab": {
          "base_uri": "https://localhost:8080/"
        },
        "id": "NGRc5Rx_iZK9",
        "outputId": "09d1a0c3-0bbf-448b-814f-de6ff85476fb"
      },
      "execution_count": 98,
      "outputs": [
        {
          "output_type": "stream",
          "name": "stdout",
          "text": [
            "Looking in indexes: https://pypi.org/simple, https://us-python.pkg.dev/colab-wheels/public/simple/\n",
            "Requirement already satisfied: opencv-python in /usr/local/lib/python3.7/dist-packages (4.6.0.66)\n",
            "Requirement already satisfied: numpy>=1.14.5 in /usr/local/lib/python3.7/dist-packages (from opencv-python) (1.21.6)\n"
          ]
        }
      ]
    },
    {
      "cell_type": "code",
      "source": [
        "pip install flask\n"
      ],
      "metadata": {
        "colab": {
          "base_uri": "https://localhost:8080/"
        },
        "id": "5NjOB52roc2k",
        "outputId": "e2dd72dc-e7b2-4fd8-85f0-64653252996e"
      },
      "execution_count": 99,
      "outputs": [
        {
          "output_type": "stream",
          "name": "stdout",
          "text": [
            "Looking in indexes: https://pypi.org/simple, https://us-python.pkg.dev/colab-wheels/public/simple/\n",
            "Requirement already satisfied: flask in /usr/local/lib/python3.7/dist-packages (1.1.4)\n",
            "Requirement already satisfied: click<8.0,>=5.1 in /usr/local/lib/python3.7/dist-packages (from flask) (7.1.2)\n",
            "Requirement already satisfied: Werkzeug<2.0,>=0.15 in /usr/local/lib/python3.7/dist-packages (from flask) (1.0.1)\n",
            "Requirement already satisfied: itsdangerous<2.0,>=0.24 in /usr/local/lib/python3.7/dist-packages (from flask) (1.1.0)\n",
            "Requirement already satisfied: Jinja2<3.0,>=2.10.1 in /usr/local/lib/python3.7/dist-packages (from flask) (2.11.3)\n",
            "Requirement already satisfied: MarkupSafe>=0.23 in /usr/local/lib/python3.7/dist-packages (from Jinja2<3.0,>=2.10.1->flask) (2.0.1)\n"
          ]
        }
      ]
    },
    {
      "cell_type": "code",
      "source": [
        "!pip install tabula-py\n"
      ],
      "metadata": {
        "colab": {
          "base_uri": "https://localhost:8080/"
        },
        "id": "3G_l_tLiPPFE",
        "outputId": "6b2a72f1-21cd-4438-b366-48dc46d60666"
      },
      "execution_count": 100,
      "outputs": [
        {
          "output_type": "stream",
          "name": "stdout",
          "text": [
            "Looking in indexes: https://pypi.org/simple, https://us-python.pkg.dev/colab-wheels/public/simple/\n",
            "Requirement already satisfied: tabula-py in /usr/local/lib/python3.7/dist-packages (2.5.1)\n",
            "Requirement already satisfied: numpy in /usr/local/lib/python3.7/dist-packages (from tabula-py) (1.21.6)\n",
            "Requirement already satisfied: distro in /usr/local/lib/python3.7/dist-packages (from tabula-py) (1.7.0)\n",
            "Requirement already satisfied: pandas>=0.25.3 in /usr/local/lib/python3.7/dist-packages (from tabula-py) (1.3.5)\n",
            "Requirement already satisfied: python-dateutil>=2.7.3 in /usr/local/lib/python3.7/dist-packages (from pandas>=0.25.3->tabula-py) (2.8.2)\n",
            "Requirement already satisfied: pytz>=2017.3 in /usr/local/lib/python3.7/dist-packages (from pandas>=0.25.3->tabula-py) (2022.2.1)\n",
            "Requirement already satisfied: six>=1.5 in /usr/local/lib/python3.7/dist-packages (from python-dateutil>=2.7.3->pandas>=0.25.3->tabula-py) (1.15.0)\n"
          ]
        }
      ]
    },
    {
      "cell_type": "code",
      "source": [
        "pip install tabula"
      ],
      "metadata": {
        "colab": {
          "base_uri": "https://localhost:8080/"
        },
        "id": "vB_IdesvOCX5",
        "outputId": "3cf0d032-dfee-47cb-ce79-2a588705eed8"
      },
      "execution_count": 101,
      "outputs": [
        {
          "output_type": "stream",
          "name": "stdout",
          "text": [
            "Looking in indexes: https://pypi.org/simple, https://us-python.pkg.dev/colab-wheels/public/simple/\n",
            "Requirement already satisfied: tabula in /usr/local/lib/python3.7/dist-packages (1.0.5)\n",
            "Requirement already satisfied: numpy in /usr/local/lib/python3.7/dist-packages (from tabula) (1.21.6)\n",
            "Requirement already satisfied: setuptools in /usr/local/lib/python3.7/dist-packages (from tabula) (57.4.0)\n"
          ]
        }
      ]
    },
    {
      "cell_type": "code",
      "source": [
        "!apt-get install ghostscript"
      ],
      "metadata": {
        "colab": {
          "base_uri": "https://localhost:8080/"
        },
        "id": "hrtAHz8_q3gW",
        "outputId": "5907f0a1-bd56-4185-c3c1-a1da52ad20fb"
      },
      "execution_count": 102,
      "outputs": [
        {
          "output_type": "stream",
          "name": "stdout",
          "text": [
            "Reading package lists... Done\n",
            "Building dependency tree       \n",
            "Reading state information... Done\n",
            "ghostscript is already the newest version (9.26~dfsg+0-0ubuntu0.18.04.16).\n",
            "The following package was automatically installed and is no longer required:\n",
            "  libnvidia-common-460\n",
            "Use 'apt autoremove' to remove it.\n",
            "0 upgraded, 0 newly installed, 0 to remove and 20 not upgraded.\n"
          ]
        }
      ]
    },
    {
      "cell_type": "code",
      "source": [
        "pip install ocrmypdf"
      ],
      "metadata": {
        "colab": {
          "base_uri": "https://localhost:8080/"
        },
        "id": "Jdz1gbyI-wcU",
        "outputId": "4c2c09b6-2b2a-4ec2-e267-56ec20d1a8d0"
      },
      "execution_count": 103,
      "outputs": [
        {
          "output_type": "stream",
          "name": "stdout",
          "text": [
            "Looking in indexes: https://pypi.org/simple, https://us-python.pkg.dev/colab-wheels/public/simple/\n",
            "Requirement already satisfied: ocrmypdf in /usr/local/lib/python3.7/dist-packages (13.7.0)\n",
            "Requirement already satisfied: Pillow>=8.2.0 in /usr/local/lib/python3.7/dist-packages (from ocrmypdf) (9.2.0)\n",
            "Requirement already satisfied: typing-extensions>=4 in /usr/local/lib/python3.7/dist-packages (from ocrmypdf) (4.1.1)\n",
            "Requirement already satisfied: pikepdf!=5.0.0,>=4.0.0 in /usr/local/lib/python3.7/dist-packages (from ocrmypdf) (5.6.0)\n",
            "Requirement already satisfied: importlib-metadata>=4 in /usr/local/lib/python3.7/dist-packages (from ocrmypdf) (4.12.0)\n",
            "Requirement already satisfied: reportlab>=3.5.66 in /usr/local/lib/python3.7/dist-packages (from ocrmypdf) (3.6.11)\n",
            "Requirement already satisfied: packaging>=20 in /usr/local/lib/python3.7/dist-packages (from ocrmypdf) (21.3)\n",
            "Requirement already satisfied: img2pdf>=0.3.0 in /usr/local/lib/python3.7/dist-packages (from ocrmypdf) (0.4.4)\n",
            "Requirement already satisfied: tqdm>=4 in /usr/local/lib/python3.7/dist-packages (from ocrmypdf) (4.64.0)\n",
            "Requirement already satisfied: importlib-resources>=5 in /usr/local/lib/python3.7/dist-packages (from ocrmypdf) (5.9.0)\n",
            "Requirement already satisfied: pdfminer.six!=20200720,>=20191110 in /usr/local/lib/python3.7/dist-packages (from ocrmypdf) (20220524)\n",
            "Requirement already satisfied: coloredlogs>=14.0 in /usr/local/lib/python3.7/dist-packages (from ocrmypdf) (15.0.1)\n",
            "Requirement already satisfied: pluggy>=0.13.0 in /usr/local/lib/python3.7/dist-packages (from ocrmypdf) (1.0.0)\n",
            "Requirement already satisfied: humanfriendly>=9.1 in /usr/local/lib/python3.7/dist-packages (from coloredlogs>=14.0->ocrmypdf) (10.0)\n",
            "Requirement already satisfied: zipp>=0.5 in /usr/local/lib/python3.7/dist-packages (from importlib-metadata>=4->ocrmypdf) (3.8.1)\n",
            "Requirement already satisfied: pyparsing!=3.0.5,>=2.0.2 in /usr/local/lib/python3.7/dist-packages (from packaging>=20->ocrmypdf) (3.0.9)\n",
            "Requirement already satisfied: charset-normalizer>=2.0.0 in /usr/local/lib/python3.7/dist-packages (from pdfminer.six!=20200720,>=20191110->ocrmypdf) (2.1.0)\n",
            "Requirement already satisfied: cryptography>=36.0.0 in /usr/local/lib/python3.7/dist-packages (from pdfminer.six!=20200720,>=20191110->ocrmypdf) (37.0.4)\n",
            "Requirement already satisfied: cffi>=1.12 in /usr/local/lib/python3.7/dist-packages (from cryptography>=36.0.0->pdfminer.six!=20200720,>=20191110->ocrmypdf) (1.15.1)\n",
            "Requirement already satisfied: pycparser in /usr/local/lib/python3.7/dist-packages (from cffi>=1.12->cryptography>=36.0.0->pdfminer.six!=20200720,>=20191110->ocrmypdf) (2.21)\n",
            "Requirement already satisfied: deprecation in /usr/local/lib/python3.7/dist-packages (from pikepdf!=5.0.0,>=4.0.0->ocrmypdf) (2.1.0)\n",
            "Requirement already satisfied: lxml>=4.0 in /usr/local/lib/python3.7/dist-packages (from pikepdf!=5.0.0,>=4.0.0->ocrmypdf) (4.9.1)\n"
          ]
        }
      ]
    },
    {
      "cell_type": "code",
      "source": [
        "import sys\n",
        "import numpy as np\n",
        "from cv2 import *\n",
        "import time\n",
        "import os\n",
        "import threading\n",
        "import pytesseract\n",
        "import imutils\n",
        "import cv2\n",
        "from PIL import Image\n",
        "from tabula.io import read_pdf\n",
        "import tabula\n",
        "import pandas as pd\n",
        "import ocrmypdf"
      ],
      "metadata": {
        "id": "0AzbZ1cyiUDp"
      },
      "execution_count": 127,
      "outputs": []
    },
    {
      "cell_type": "code",
      "source": [
        "    img_path=r'/content/FER 27-28 57-58_pages-to-jpg-0003.jpg'\n",
        "    # Read image using opencv\n",
        "    file_name = os.path.basename(img_path)\n",
        "    # file name without extension\n",
        "    filename =os.path.splitext(file_name)[0]\n",
        "    img = cv2.imread(img_path)\n",
        "   # Extract the file name without the file extension\n",
        "    file_name = os.path.splitext(img_path)[0]\n",
        "    #file_name = file_name\n",
        "    img = cv2.cvtColor(img, cv2.COLOR_BGR2GRAY)\n",
        "    #Removing Shadows\n",
        "    rgb_planes = cv2.split(img)\n",
        "    result_planes = []\n",
        "    result_norm_planes = []\n",
        "    for plane in rgb_planes:\n",
        "        dilated_img = cv2.dilate(plane, np.ones((7,7), np.uint8))\n",
        "        bg_img = cv2.medianBlur(dilated_img, 21)\n",
        "        diff_img = 255 - cv2.absdiff(plane, bg_img)\n",
        "        result_planes.append(diff_img)\n",
        "    img = cv2.merge(result_planes)\n",
        "    \n",
        "    #Apply dilation and erosion to remove some noise\n",
        "    kernel = np.ones((1, 1), np.uint8)\n",
        "    img = cv2.dilate(img, kernel, iterations=1)#increases the white region in the image \n",
        "    img = cv2.erode(img, kernel, iterations=1) #erodes away the boundaries of foreground object\n",
        "    \n",
        "    # Apply threshold to get image with only b&w (binarization)\n",
        "    img = cv2.threshold(img, 0, 255, cv2.THRESH_BINARY + cv2.THRESH_OTSU)[1]\n",
        "    img = cv2.imwrite('/content/1.png',img)\n",
        "    "
      ],
      "metadata": {
        "id": "MHzDZUYPiGRT"
      },
      "execution_count": 151,
      "outputs": []
    },
    {
      "cell_type": "code",
      "source": [
        "#image to pdf\n",
        "img = Image.open('/content/1.png')\n",
        "img_pfd = img.save(r'1.pdf')\n"
      ],
      "metadata": {
        "id": "AxMcP85v6PKU"
      },
      "execution_count": 152,
      "outputs": []
    },
    {
      "cell_type": "code",
      "source": [
        "#image pdf to text pdf\n",
        "def scannedPdfConverter(file_path, save_path):\n",
        "    ocrmypdf.ocr(file_path, save_path, skip_text=True)\n",
        "    print('File converted successfully!')\n",
        "\n",
        "file_path = \"/content/1.pdf\"\n",
        "save_path =\"/content/11.pdf\"\n",
        "scannedPdfConverter(file_path, save_path)"
      ],
      "metadata": {
        "colab": {
          "base_uri": "https://localhost:8080/"
        },
        "id": "20vmFqt69n0j",
        "outputId": "f5c7c13f-b253-475f-c2c9-188b6e9730c4"
      },
      "execution_count": 153,
      "outputs": [
        {
          "output_type": "stream",
          "name": "stderr",
          "text": [
            "Scanning contents: 100%|██████████| 1/1 [00:00<00:00, 154.73page/s]\n",
            "OCR: 100%|██████████| 1.0/1.0 [00:02<00:00,  2.27s/page]\n",
            "PDF/A conversion: 100%|██████████| 1/1 [00:00<00:00,  6.84page/s]\n",
            "Recompressing JPEGs: 0image [00:00, ?image/s]\n",
            "Deflating JPEGs: 100%|██████████| 1/1 [00:00<00:00, 87.35image/s]\n",
            "JBIG2: 0item [00:00, ?item/s]"
          ]
        },
        {
          "output_type": "stream",
          "name": "stdout",
          "text": [
            "File converted successfully!\n"
          ]
        },
        {
          "output_type": "stream",
          "name": "stderr",
          "text": [
            "\n"
          ]
        }
      ]
    },
    {
      "cell_type": "code",
      "source": [
        "# text pdf to csv file \n",
        "df = tabula.read_pdf(\"/content/11.pdf\", pages='all')[0]\n",
        "df = pd.DataFrame(df)\n",
        "print(df)\n",
        "df.to_csv(\"11.csv\", index=False)"
      ],
      "metadata": {
        "id": "Yl7DrGxKOAUl",
        "colab": {
          "base_uri": "https://localhost:8080/"
        },
        "outputId": "929847cd-7bcc-4380-c72a-aaab7fe0c3fb"
      },
      "execution_count": 154,
      "outputs": [
        {
          "output_type": "stream",
          "name": "stdout",
          "text": [
            "   Depth         GR      CALI         R,      Veu PIGN(®,}       Sw\n",
            "0      m       BAPI        in      ohm.m   m3/m3.    m3/m3    m3/m3\n",
            "1   3476    71.7252   8.71369   30.88494  0.12694  0.14111  0.39672\n",
            "2   3477   64.38234   8.97041   27.48025  0.10324  0.15164  0.41772\n",
            "3   3478   69.16407   8.92308    42.8899  0.10108  0.12605  0.40134\n",
            "4   3479   68.87645   8.40721    19.9842  0.10963  0.12709  0.57149\n",
            "5   3480   72.29375   8.52481   28.73718  0.11358  0.11002   0.3324\n",
            "6   3481   58.89062   8.30769   31.85952  0.11153   0.2012  0.31013\n",
            "7   3482   45.38615    8.4456  190,25443  0.04145  0.07491  0,30841\n",
            "8   3483   59.24623   8.40237   45,79617  0.13055  0.10917  0.45814\n",
            "9   3484   61.69956   8.61538   74.13807  0.10209  0.07096  0.29466\n",
            "10  3485   57.91767   8.48521   25.25423   0.0953  0.14534  0.45478\n",
            "11  3486   76.57812   8.71472   26.62168  0.14166  0.13261  0.44492\n",
            "12  3487   85.72929   8.40237   23.69687  0.16059  0.07408  0.49364\n",
            "13  3488  101.75997   8.59172     23.758  0.22484  0.10483  0.50085\n",
            "14  3489   84.70417   8.60364   11.67744  0.17934  0.11277  0.66699\n",
            "15  3490    1.51791   8.61538   27.35312  0.15624  0.12873  0.46267\n",
            "16  3491   75.11968   8.35792   11.85604  0.14567  0.13116  0.62313\n",
            "17  3492   84.49724   8.91394   20.63766  0.17359  0.12873  0.49274\n",
            "18  3493  103.34128   8.71006   16.35674  0.23591  0.12126  0.43099\n",
            "19  3494   80.93049   8.48101   21.02637  0.16635  0.13936  0.38651\n",
            "20  3495   96.08258   8.64763   19.69018  0.22328  0.13907  0.44388\n",
            "21  3496    91,8314   9.13432   36.44084  0.18434  0.12394  0.3734.\n",
            "22  3497    78.8095   8.49872   11.34464  0.75774  0.05812        1\n",
            "23  3498   34.29026  10.61976  195.15839  0.23148  0.44024  0.23081\n",
            "24  3499   58.22009   9.20225   90.24152  0.54818  0.31026  0.39724\n",
            "25  3500  128.62585   8.57308    5.23139  0.36051   9.0051        1\n",
            "26  3501  124.44838   8.54438     8.0013  0.32888  0.00747        1\n",
            "27  3502  132.28067   8.74491    7.74102  0.34133  0.01468        1\n",
            "28  3503  124.08827   8.51698    6.63556  0.32872  0.02065        1\n",
            "29  3504  133.89308   8.54307    6.28759  0.36241   0.0138        1\n",
            "30  3505  131.34381   8.67633    6.38477  0.35162  0.01533        1\n"
          ]
        }
      ]
    },
    {
      "cell_type": "code",
      "source": [
        "#append the file name of the original image \n",
        "filename_suffix = 'csv'\n",
        "new_path = os.path.join('/content/', filename + '.' + filename_suffix)\n",
        "source= '/content/11.csv'\n",
        "os.rename(source, new_path)"
      ],
      "metadata": {
        "id": "95QLm-Zk9j6F"
      },
      "execution_count": 155,
      "outputs": []
    },
    {
      "cell_type": "code",
      "source": [
        "#removing unnecessary files \n",
        "os.remove(\"/content/1.pdf\")\n",
        "os.remove(\"/content/1.png\")\n",
        "os.remove(\"/content/11.pdf\")\n"
      ],
      "metadata": {
        "id": "OSvom2KnLlR1"
      },
      "execution_count": 156,
      "outputs": []
    }
  ]
}